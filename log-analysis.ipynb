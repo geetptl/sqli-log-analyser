{
  "nbformat": 4,
  "nbformat_minor": 0,
  "metadata": {
    "colab": {
      "provenance": []
    },
    "kernelspec": {
      "name": "python3",
      "display_name": "Python 3"
    },
    "language_info": {
      "name": "python"
    }
  },
  "cells": [
    {
      "cell_type": "code",
      "execution_count": null,
      "metadata": {
        "id": "0OONcE1hg4cg",
        "colab": {
          "base_uri": "https://localhost:8080/"
        },
        "outputId": "744169c8-be04-4ab3-8551-c617f755eb2c"
      },
      "outputs": [
        {
          "output_type": "stream",
          "name": "stdout",
          "text": [
            "Drive already mounted at /content/drive; to attempt to forcibly remount, call drive.mount(\"/content/drive\", force_remount=True).\n"
          ]
        }
      ],
      "source": [
        "from google.colab import drive\n",
        "drive.mount('/content/drive')"
      ]
    },
    {
      "cell_type": "code",
      "source": [
        "import pandas as pd\n",
        "import nltk\n",
        "import numpy as np\n",
        "from nltk.corpus import stopwords\n",
        "from nltk.stem.porter import PorterStemmer\n",
        "from nltk.tokenize import word_tokenize\n",
        "nltk.download('punkt')"
      ],
      "metadata": {
        "colab": {
          "base_uri": "https://localhost:8080/"
        },
        "id": "3UGpNQUMxRiI",
        "outputId": "861b9755-3241-440a-b13c-ebc44d77a99a"
      },
      "execution_count": null,
      "outputs": [
        {
          "output_type": "stream",
          "name": "stderr",
          "text": [
            "[nltk_data] Downloading package punkt to /root/nltk_data...\n",
            "[nltk_data]   Package punkt is already up-to-date!\n"
          ]
        },
        {
          "output_type": "execute_result",
          "data": {
            "text/plain": [
              "True"
            ]
          },
          "metadata": {},
          "execution_count": 12
        }
      ]
    },
    {
      "cell_type": "code",
      "source": [
        "csv_files = ['sqli.csv','sqliv2.csv','SQLiV3.csv']\n",
        "df = []\n",
        "for f in csv_files:\n",
        "  try:\n",
        "    dataframe = pd.read_csv('/content/drive/MyDrive/data/SQLi/'+f,encoding='utf-16')\n",
        "  except UnicodeError:\n",
        "    dataframe = pd.read_csv('/content/drive/MyDrive/data/SQLi/'+f,encoding='utf-8')\n",
        "  df.append(dataframe)\n",
        "\n",
        "df = pd.concat(df, ignore_index=True)\n",
        "sentences = df['Sentence'].tolist()\n",
        "labels = df['Label'].tolist()\n",
        "not_sql= (df['Label']==0).sum()\n",
        "sql = (df['Label']==1).sum()\n",
        "print(\"SQL attacks\", sql)\n",
        "print(\"Non-SQL attacks\",not_sql)\n"
      ],
      "metadata": {
        "colab": {
          "base_uri": "https://localhost:8080/"
        },
        "id": "L3ZyekOLl6Ru",
        "outputId": "ebbad31d-a11b-42b2-b99b-bd9f8b8f3b0c"
      },
      "execution_count": null,
      "outputs": [
        {
          "output_type": "stream",
          "name": "stdout",
          "text": [
            "SQL attacks 12584\n",
            "Non-SQL attacks 25377\n"
          ]
        }
      ]
    },
    {
      "cell_type": "code",
      "source": [
        "import json\n",
        "class NumpyEncoder(json.JSONEncoder):\n",
        "    def default(self, obj):\n",
        "        if isinstance(obj, np.ndarray):\n",
        "            return obj.tolist()\n",
        "        return json.JSONEncoder.default(self, obj)\n",
        "\n",
        "glove_file = '/content/drive/MyDrive/data/SQLi/GloVe/glove.840B.300d.txt'\n",
        "glove_embeddings = {}\n",
        "with open(glove_file, 'r', encoding='utf-8') as f:\n",
        "    for line in f:\n",
        "        values = line.split()\n",
        "        if len(values) != 301:\n",
        "          continue\n",
        "        word = values[0]\n",
        "        vector = np.asarray(values[1:], dtype='float32')\n",
        "        glove_embeddings[word] = vector"
      ],
      "metadata": {
        "id": "rflAyMiisg99"
      },
      "execution_count": null,
      "outputs": []
    },
    {
      "cell_type": "code",
      "source": [
        "from sklearn.model_selection import train_test_split\n",
        "\n",
        "#Tokenize sentences\n",
        "tokenized_sentences = [word_tokenize(str(sentence)) for sentence in sentences]\n",
        "seq_tokens = []\n",
        "for sentence in tokenized_sentences:\n",
        "  weighted_sum = np.zeros((300,)) #embedding of whole sentence\n",
        "  count = 0\n",
        "  for word in sentence:\n",
        "    count+=1\n",
        "    if word in glove_embeddings:\n",
        "      embedding = glove_embeddings[word]\n",
        "    else:\n",
        "      embedding = np.zeros((300,))\n",
        "    weighted_sum+= embedding\n",
        "  if count > 0:\n",
        "    seq_tokens.append(weighted_sum / count)\n",
        "  else:\n",
        "    seq_tokens.append(weighted_sum)"
      ],
      "metadata": {
        "id": "Q23cPRTTyUcA"
      },
      "execution_count": null,
      "outputs": []
    },
    {
      "cell_type": "code",
      "source": [
        "import torch\n",
        "import torch.nn as nn\n",
        "import math\n",
        "from torch.utils.data import TensorDataset, DataLoader\n",
        "train_sentences, test_sentences, train_labels, test_labels = train_test_split(seq_tokens, labels, test_size=0.2, random_state=42)\n",
        "train_sentences, val_sentences, train_labels, val_labels = train_test_split(train_sentences, train_labels, test_size=0.2, random_state=42)\n",
        "index_train =[] #index where nan\n",
        "index_test = []\n",
        "for i in range(0,len(train_labels)):\n",
        "  if (train_labels[i]=='0'or train_labels[i]=='1'or train_labels[i]==1 or train_labels[i]==0):\n",
        "    train_labels[i]=int(train_labels[i])\n",
        "  else:\n",
        "    index_train.append(i)\n",
        "\n",
        "for i in range(0,len(test_labels)):\n",
        "  if (test_labels[i]=='0'or test_labels[i]=='1'or test_labels[i]==1 or test_labels[i]==0):\n",
        "    test_labels[i]=int(test_labels[i])\n",
        "  else:\n",
        "    index_test.append(i)\n",
        "\n",
        "train_labels = np.delete(train_labels,index_train)\n",
        "test_labels = np.delete(test_labels,index_test)\n",
        "train_sentences = np.delete(train_sentences,index_train,axis = 0)\n",
        "test_sentences = np.delete(test_sentences,index_test, axis = 0)\n",
        "train_labels = [int(x) for x in train_labels] #Convert string labels to int\n",
        "test_labels = [int(x) for x in test_labels]\n",
        "train_dataset = TensorDataset(torch.tensor(train_sentences),torch.tensor(train_labels).unsqueeze(1))\n",
        "test_dataset = TensorDataset(torch.tensor(test_sentences),torch.tensor(test_labels).unsqueeze(1))\n",
        "train_dataloader = DataLoader(train_dataset, batch_size=32, shuffle=True)\n",
        "test_dataloader = DataLoader(test_dataset, batch_size=32)\n",
        "train_labels = torch.tensor(train_labels)"
      ],
      "metadata": {
        "id": "kVkno_qIaANe"
      },
      "execution_count": null,
      "outputs": []
    },
    {
      "cell_type": "code",
      "source": [
        "#hyperparameters\n",
        "output_dim = 32\n",
        "hidden_dim = 100\n",
        "num_layers = 2\n",
        "dropout = 0.5\n",
        "batch_size = 32\n",
        "lr = 0.001\n",
        "num_epochs = 5\n"
      ],
      "metadata": {
        "id": "2e4-I1XzMGY2"
      },
      "execution_count": null,
      "outputs": []
    },
    {
      "cell_type": "code",
      "source": [
        "def custom_collate_fn(batch):\n",
        "    # `batch` is a list of tuples (sample, target)\n",
        "    # where `sample` is a tensor of shape (seq_len, input_size)\n",
        "    # and `target` is a tensor of shape (1,)\n",
        "    # We want to convert this list of tuples into a single batch\n",
        "\n",
        "    # Stack the samples along the batch dimension to create a batch of shape (batch_size, seq_len, input_size)\n",
        "    samples = torch.stack([sample for sample, target in batch], dim=0)\n",
        "\n",
        "    # Stack the targets along the batch dimension to create a batch of shape (batch_size,)\n",
        "    targets = torch.stack([target for sample, target in batch], dim=0)\n",
        "\n",
        "    return samples, targets\n"
      ],
      "metadata": {
        "id": "KYxfKDxr1bE1"
      },
      "execution_count": null,
      "outputs": []
    },
    {
      "cell_type": "code",
      "source": [
        "X_train_tensors = torch.Tensor(train_sentences)\n",
        "X_test_tensors = torch.Tensor(test_sentences)\n",
        "\n",
        "y_train_tensors = torch.Tensor(train_labels)\n",
        "y_test_tensors = torch.Tensor(test_labels)\n",
        "\n",
        "X_train_tensors_final = torch.reshape(X_train_tensors,   (X_train_tensors.shape[0], 1, X_train_tensors.shape[1]))\n",
        "X_test_tensors_final = torch.reshape(X_test_tensors,  (X_test_tensors.shape[0], 1, X_test_tensors.shape[1])) "
      ],
      "metadata": {
        "id": "97nRmrBXNuA1"
      },
      "execution_count": null,
      "outputs": []
    },
    {
      "cell_type": "code",
      "source": [
        "class LSTM1(nn.Module):\n",
        "    def __init__(self, num_classes, input_size, hidden_size, num_layers):\n",
        "        super(LSTM1, self).__init__()\n",
        "        self.num_classes = num_classes #number of classes\n",
        "        self.num_layers = num_layers #number of layers\n",
        "        self.input_size = input_size #input size\n",
        "        self.hidden_size = hidden_size #hidden state\n",
        "\n",
        "        self.lstm = nn.LSTM(input_size=input_size, hidden_size=hidden_size,\n",
        "                          num_layers=num_layers, batch_first=True,bidirectional=False) #lstm\n",
        "        self.fc_1 =  nn.Linear(hidden_size, 128) #fully connected 1\n",
        "        self.fc = nn.Linear(128, num_classes) #fully connected last layer\n",
        "\n",
        "        self.relu = nn.ReLU()\n",
        "    \n",
        "    def forward(self,x):\n",
        "        h_0 = torch.zeros(self.num_layers, x.size(0), self.hidden_size) #hidden state\n",
        "        c_0 = torch.zeros(self.num_layers, x.size(0), self.hidden_size) #internal state\n",
        "        # Propagate input through LSTM\n",
        "        output, (hn, cn) = self.lstm(x, (h_0, c_0)) #lstm with input, hidden, and internal state\n",
        "        hn = hn.view(-1, self.hidden_size) #reshaping the data for Dense layer next\n",
        "        out = self.relu(hn)\n",
        "        out = self.fc_1(out) #first Dense\n",
        "        out = self.relu(out) #relu\n",
        "        out = self.fc(out) #Final Output\n",
        "        return out\n",
        "model = LSTM1(2,32,100,1)\n",
        "print(model)"
      ],
      "metadata": {
        "colab": {
          "base_uri": "https://localhost:8080/"
        },
        "id": "RBNr0IbMLoLB",
        "outputId": "0e6f07ef-9bb1-4195-a86d-5461c59a7361"
      },
      "execution_count": null,
      "outputs": [
        {
          "output_type": "stream",
          "name": "stdout",
          "text": [
            "LSTM1(\n",
            "  (lstm): LSTM(32, 100, batch_first=True)\n",
            "  (fc_1): Linear(in_features=100, out_features=128, bias=True)\n",
            "  (fc): Linear(in_features=128, out_features=2, bias=True)\n",
            "  (relu): ReLU()\n",
            ")\n"
          ]
        }
      ]
    },
    {
      "cell_type": "code",
      "source": [
        "print(X_test_tensors_final.shape)\n",
        "print(X_train_tensors_final.shape)"
      ],
      "metadata": {
        "colab": {
          "base_uri": "https://localhost:8080/"
        },
        "id": "ZDZ1BwrChdCq",
        "outputId": "0061cb09-197b-420f-8fc4-a8e3fa049cba"
      },
      "execution_count": null,
      "outputs": [
        {
          "output_type": "stream",
          "name": "stdout",
          "text": [
            "torch.Size([13707, 1, 300])\n",
            "torch.Size([43898, 1, 300])\n"
          ]
        }
      ]
    },
    {
      "cell_type": "code",
      "source": [
        "import torch.optim as optim\n",
        "import torch\n",
        "import time\n",
        "import os\n",
        "\n",
        "model = LSTM1(1,300,100,1)\n",
        "device = torch.device('cuda' if torch.cuda.is_available() else 'cpu')\n",
        "model.to(device)\n",
        "\n",
        "criterion = nn.BCELoss()    \n",
        "optimizer = torch.optim.Adam(model.parameters(), lr=lr) \n",
        "\n",
        "save_path = '/content/drive/My Drive/models/model_params.pt'\n",
        "os.makedirs(os.path.dirname(save_path), exist_ok=True)\n",
        "torch.save(model.state_dict(), save_path)\n",
        "\n",
        "total_loss = 0.0\n",
        "iter = 0\n",
        "\n",
        "min_test_loss = 1\n",
        "#to time the training\n",
        "start_time = time.time()\n",
        "for epoch in range(num_epochs):\n",
        "  print(\"Epoch\",epoch)\n",
        "  running_loss = 0.0\n",
        "  for i, batch in enumerate(train_dataloader):\n",
        "    optimizer.zero_grad()\n",
        "    inputs, targets = batch\n",
        "    outputs = model(inputs.unsqueeze(1).to(torch.float))\n",
        "    outputs = nn.functional.sigmoid(outputs) # Apply sigmoid activation so that values are between 0 and 1\n",
        "    targets = targets.to(torch.float)\n",
        "    batch_loss = criterion(outputs, targets)\n",
        "    batch_loss.backward()\n",
        "    # Clip the gradients to avoid exploding gradients\n",
        "    torch.nn.utils.clip_grad_norm_(model.parameters(), max_norm=1.0)\n",
        "    optimizer.step()\n",
        "    optimizer.zero_grad()\n",
        "    if i % 20 == 0:\n",
        "      # logging.info(f\"Step [{step}/{len(train_dataloader)}], Loss: {loss.item():.4f}\")\n",
        "      print(f'Step [{i}/{len(train_dataloader)}], Loss: {batch_loss.item():.4f}')    \n",
        "    # Update the running loss\n",
        "model.eval()\n",
        "end_time = time.time()\n",
        "elapsed_time_lstm = end_time - start_time\n",
        "print(f'Time taken to train: {elapsed_time_lstm} seconds')\n",
        "\n",
        "model_state_dict = model.state_dict()\n",
        "torch.save(model_state_dict, 'model_params.pt')\n",
        "correct = 0\n",
        "total = 0\n",
        "for i, batch in enumerate(test_dataloader):\n",
        "  optimizer.zero_grad()\n",
        "  inputs, targets = batch\n",
        "  outputs = model(inputs.unsqueeze(1).to(torch.float))\n",
        "  outputs = nn.functional.sigmoid(outputs) # Apply sigmoid activation so that values are between 0 and 1\n",
        "  predicted = torch.round(outputs).int()\n",
        "  predicted = predicted.view(-1)\n",
        "  targets = targets.view(-1)\n",
        "  correct+= (predicted == targets).sum().item()\n",
        "  # count the total number of samples\n",
        "  total += 32\n",
        "accuracy = 100 * correct / total\n",
        "print('Accuracy:', accuracy)"
      ],
      "metadata": {
        "colab": {
          "base_uri": "https://localhost:8080/"
        },
        "id": "VOG5IAKN_2y_",
        "outputId": "e2f35a8c-5283-41d4-c178-59a1b182b503"
      },
      "execution_count": null,
      "outputs": [
        {
          "output_type": "stream",
          "name": "stdout",
          "text": [
            "Epoch 0\n",
            "Step [0/1372], Loss: 0.6929\n",
            "Step [20/1372], Loss: 0.5945\n",
            "Step [40/1372], Loss: 0.3679\n",
            "Step [60/1372], Loss: 0.1175\n",
            "Step [80/1372], Loss: 0.0404\n",
            "Step [100/1372], Loss: 0.0692\n",
            "Step [120/1372], Loss: 0.0533\n",
            "Step [140/1372], Loss: 0.1151\n",
            "Step [160/1372], Loss: 0.0404\n",
            "Step [180/1372], Loss: 0.0079\n",
            "Step [200/1372], Loss: 0.0202\n",
            "Step [220/1372], Loss: 0.0526\n",
            "Step [240/1372], Loss: 0.0106\n",
            "Step [260/1372], Loss: 0.1177\n",
            "Step [280/1372], Loss: 0.0044\n",
            "Step [300/1372], Loss: 0.0080\n",
            "Step [320/1372], Loss: 0.0051\n",
            "Step [340/1372], Loss: 0.0085\n",
            "Step [360/1372], Loss: 0.0068\n",
            "Step [380/1372], Loss: 0.0034\n",
            "Step [400/1372], Loss: 0.0065\n",
            "Step [420/1372], Loss: 0.0028\n",
            "Step [440/1372], Loss: 0.0055\n",
            "Step [460/1372], Loss: 0.0496\n",
            "Step [480/1372], Loss: 0.0033\n",
            "Step [500/1372], Loss: 0.0029\n",
            "Step [520/1372], Loss: 0.0217\n",
            "Step [540/1372], Loss: 0.0026\n",
            "Step [560/1372], Loss: 0.0086\n",
            "Step [580/1372], Loss: 0.0064\n",
            "Step [600/1372], Loss: 0.0048\n",
            "Step [620/1372], Loss: 0.0371\n",
            "Step [640/1372], Loss: 0.0033\n",
            "Step [660/1372], Loss: 0.0076\n",
            "Step [680/1372], Loss: 0.0016\n",
            "Step [700/1372], Loss: 0.0541\n",
            "Step [720/1372], Loss: 0.0027\n",
            "Step [740/1372], Loss: 0.0041\n",
            "Step [760/1372], Loss: 0.0027\n",
            "Step [780/1372], Loss: 0.0053\n",
            "Step [800/1372], Loss: 0.0022\n",
            "Step [820/1372], Loss: 0.1672\n",
            "Step [840/1372], Loss: 0.0026\n",
            "Step [860/1372], Loss: 0.0072\n",
            "Step [880/1372], Loss: 0.0086\n",
            "Step [900/1372], Loss: 0.0047\n",
            "Step [920/1372], Loss: 0.0050\n",
            "Step [940/1372], Loss: 0.0023\n",
            "Step [960/1372], Loss: 0.0030\n",
            "Step [980/1372], Loss: 0.0015\n",
            "Step [1000/1372], Loss: 0.0023\n",
            "Step [1020/1372], Loss: 0.0133\n",
            "Step [1040/1372], Loss: 0.0007\n",
            "Step [1060/1372], Loss: 0.0162\n",
            "Step [1080/1372], Loss: 0.0036\n",
            "Step [1100/1372], Loss: 0.0014\n",
            "Step [1120/1372], Loss: 0.0014\n",
            "Step [1140/1372], Loss: 0.0043\n",
            "Step [1160/1372], Loss: 0.0015\n",
            "Step [1180/1372], Loss: 0.0010\n",
            "Step [1200/1372], Loss: 0.0050\n",
            "Step [1220/1372], Loss: 0.2082\n",
            "Step [1240/1372], Loss: 0.0019\n",
            "Step [1260/1372], Loss: 0.0058\n",
            "Step [1280/1372], Loss: 0.0008\n",
            "Step [1300/1372], Loss: 0.0009\n",
            "Step [1320/1372], Loss: 0.0007\n",
            "Step [1340/1372], Loss: 0.0014\n",
            "Step [1360/1372], Loss: 0.0012\n",
            "Epoch 1\n",
            "Step [0/1372], Loss: 0.0024\n",
            "Step [20/1372], Loss: 0.0010\n",
            "Step [40/1372], Loss: 0.0030\n",
            "Step [60/1372], Loss: 0.0231\n",
            "Step [80/1372], Loss: 0.0008\n",
            "Step [100/1372], Loss: 0.2033\n",
            "Step [120/1372], Loss: 0.0012\n",
            "Step [140/1372], Loss: 0.1805\n",
            "Step [160/1372], Loss: 0.0019\n",
            "Step [180/1372], Loss: 0.0071\n",
            "Step [200/1372], Loss: 0.0006\n",
            "Step [220/1372], Loss: 0.0320\n",
            "Step [240/1372], Loss: 0.0082\n",
            "Step [260/1372], Loss: 0.0009\n",
            "Step [280/1372], Loss: 0.1858\n",
            "Step [300/1372], Loss: 0.0031\n",
            "Step [320/1372], Loss: 0.0012\n",
            "Step [340/1372], Loss: 0.0496\n",
            "Step [360/1372], Loss: 0.0021\n",
            "Step [380/1372], Loss: 0.0017\n",
            "Step [400/1372], Loss: 0.0015\n",
            "Step [420/1372], Loss: 0.0118\n",
            "Step [440/1372], Loss: 0.0013\n",
            "Step [460/1372], Loss: 0.0011\n",
            "Step [480/1372], Loss: 0.0006\n",
            "Step [500/1372], Loss: 0.0020\n",
            "Step [520/1372], Loss: 0.0008\n",
            "Step [540/1372], Loss: 0.0005\n",
            "Step [560/1372], Loss: 0.0013\n",
            "Step [580/1372], Loss: 0.0004\n",
            "Step [600/1372], Loss: 0.0005\n",
            "Step [620/1372], Loss: 0.0014\n",
            "Step [640/1372], Loss: 0.0005\n",
            "Step [660/1372], Loss: 0.0079\n",
            "Step [680/1372], Loss: 0.0004\n",
            "Step [700/1372], Loss: 0.0013\n",
            "Step [720/1372], Loss: 0.0025\n",
            "Step [740/1372], Loss: 0.0021\n",
            "Step [760/1372], Loss: 0.0013\n",
            "Step [780/1372], Loss: 0.0016\n",
            "Step [800/1372], Loss: 0.0019\n",
            "Step [820/1372], Loss: 0.0018\n",
            "Step [840/1372], Loss: 0.0023\n",
            "Step [860/1372], Loss: 0.0018\n",
            "Step [880/1372], Loss: 0.0011\n",
            "Step [900/1372], Loss: 0.0012\n",
            "Step [920/1372], Loss: 0.0007\n",
            "Step [940/1372], Loss: 0.0069\n",
            "Step [960/1372], Loss: 0.0063\n",
            "Step [980/1372], Loss: 0.0101\n",
            "Step [1000/1372], Loss: 0.0016\n",
            "Step [1020/1372], Loss: 0.0004\n",
            "Step [1040/1372], Loss: 0.0066\n",
            "Step [1060/1372], Loss: 0.0035\n",
            "Step [1080/1372], Loss: 0.0007\n",
            "Step [1100/1372], Loss: 0.0012\n",
            "Step [1120/1372], Loss: 0.0015\n",
            "Step [1140/1372], Loss: 0.0003\n",
            "Step [1160/1372], Loss: 0.0005\n",
            "Step [1180/1372], Loss: 0.0006\n",
            "Step [1200/1372], Loss: 0.0031\n",
            "Step [1220/1372], Loss: 0.0012\n",
            "Step [1240/1372], Loss: 0.0057\n",
            "Step [1260/1372], Loss: 0.0007\n",
            "Step [1280/1372], Loss: 0.1924\n",
            "Step [1300/1372], Loss: 0.0004\n",
            "Step [1320/1372], Loss: 0.0232\n",
            "Step [1340/1372], Loss: 0.1555\n",
            "Step [1360/1372], Loss: 0.0042\n",
            "Epoch 2\n",
            "Step [0/1372], Loss: 0.0036\n",
            "Step [20/1372], Loss: 0.0025\n",
            "Step [40/1372], Loss: 0.0014\n",
            "Step [60/1372], Loss: 0.0015\n",
            "Step [80/1372], Loss: 0.0020\n",
            "Step [100/1372], Loss: 0.0010\n",
            "Step [120/1372], Loss: 0.0029\n",
            "Step [140/1372], Loss: 0.0016\n",
            "Step [160/1372], Loss: 0.0023\n",
            "Step [180/1372], Loss: 0.0009\n",
            "Step [200/1372], Loss: 0.0006\n",
            "Step [220/1372], Loss: 0.0010\n",
            "Step [240/1372], Loss: 0.0010\n",
            "Step [260/1372], Loss: 0.0124\n",
            "Step [280/1372], Loss: 0.0008\n",
            "Step [300/1372], Loss: 0.0014\n",
            "Step [320/1372], Loss: 0.0024\n",
            "Step [340/1372], Loss: 0.0009\n",
            "Step [360/1372], Loss: 0.0010\n",
            "Step [380/1372], Loss: 0.0007\n",
            "Step [400/1372], Loss: 0.0010\n",
            "Step [420/1372], Loss: 0.0020\n",
            "Step [440/1372], Loss: 0.0004\n",
            "Step [460/1372], Loss: 0.0016\n",
            "Step [480/1372], Loss: 0.0025\n",
            "Step [500/1372], Loss: 0.0016\n",
            "Step [520/1372], Loss: 0.0024\n",
            "Step [540/1372], Loss: 0.0017\n",
            "Step [560/1372], Loss: 0.0021\n",
            "Step [580/1372], Loss: 0.0014\n",
            "Step [600/1372], Loss: 0.0007\n",
            "Step [620/1372], Loss: 0.0008\n",
            "Step [640/1372], Loss: 0.0012\n",
            "Step [660/1372], Loss: 0.0006\n",
            "Step [680/1372], Loss: 0.0017\n",
            "Step [700/1372], Loss: 0.0009\n",
            "Step [720/1372], Loss: 0.0014\n",
            "Step [740/1372], Loss: 0.0011\n",
            "Step [760/1372], Loss: 0.0005\n",
            "Step [780/1372], Loss: 0.0032\n",
            "Step [800/1372], Loss: 0.0013\n",
            "Step [820/1372], Loss: 0.0076\n",
            "Step [840/1372], Loss: 0.0008\n",
            "Step [860/1372], Loss: 0.0019\n",
            "Step [880/1372], Loss: 0.0034\n",
            "Step [900/1372], Loss: 0.0012\n",
            "Step [920/1372], Loss: 0.0013\n",
            "Step [940/1372], Loss: 0.0023\n",
            "Step [960/1372], Loss: 0.0015\n",
            "Step [980/1372], Loss: 0.0024\n",
            "Step [1000/1372], Loss: 0.0011\n",
            "Step [1020/1372], Loss: 0.0003\n",
            "Step [1040/1372], Loss: 0.0010\n",
            "Step [1060/1372], Loss: 0.0009\n",
            "Step [1080/1372], Loss: 0.0007\n",
            "Step [1100/1372], Loss: 0.0012\n",
            "Step [1120/1372], Loss: 0.0005\n",
            "Step [1140/1372], Loss: 0.0005\n",
            "Step [1160/1372], Loss: 0.0003\n",
            "Step [1180/1372], Loss: 0.0003\n",
            "Step [1200/1372], Loss: 0.0037\n",
            "Step [1220/1372], Loss: 0.0008\n",
            "Step [1240/1372], Loss: 0.0015\n",
            "Step [1260/1372], Loss: 0.0023\n",
            "Step [1280/1372], Loss: 0.0013\n",
            "Step [1300/1372], Loss: 0.0017\n",
            "Step [1320/1372], Loss: 0.0011\n",
            "Step [1340/1372], Loss: 0.0020\n",
            "Step [1360/1372], Loss: 0.0003\n",
            "Epoch 3\n",
            "Step [0/1372], Loss: 0.0006\n",
            "Step [20/1372], Loss: 0.0009\n",
            "Step [40/1372], Loss: 0.0005\n",
            "Step [60/1372], Loss: 0.1720\n",
            "Step [80/1372], Loss: 0.0024\n",
            "Step [100/1372], Loss: 0.0012\n",
            "Step [120/1372], Loss: 0.0018\n",
            "Step [140/1372], Loss: 0.0018\n",
            "Step [160/1372], Loss: 0.0059\n",
            "Step [180/1372], Loss: 0.0017\n",
            "Step [200/1372], Loss: 0.0013\n",
            "Step [220/1372], Loss: 0.0009\n",
            "Step [240/1372], Loss: 0.0014\n",
            "Step [260/1372], Loss: 0.0036\n",
            "Step [280/1372], Loss: 0.0014\n",
            "Step [300/1372], Loss: 0.0009\n",
            "Step [320/1372], Loss: 0.0012\n",
            "Step [340/1372], Loss: 0.0011\n",
            "Step [360/1372], Loss: 0.0005\n",
            "Step [380/1372], Loss: 0.0004\n",
            "Step [400/1372], Loss: 0.0017\n",
            "Step [420/1372], Loss: 0.0006\n",
            "Step [440/1372], Loss: 0.0003\n",
            "Step [460/1372], Loss: 0.0010\n",
            "Step [480/1372], Loss: 0.0005\n",
            "Step [500/1372], Loss: 0.0012\n",
            "Step [520/1372], Loss: 0.0009\n",
            "Step [540/1372], Loss: 0.0005\n",
            "Step [560/1372], Loss: 0.0016\n",
            "Step [580/1372], Loss: 0.0015\n",
            "Step [600/1372], Loss: 0.0010\n",
            "Step [620/1372], Loss: 0.0013\n",
            "Step [640/1372], Loss: 0.0016\n",
            "Step [660/1372], Loss: 0.0013\n",
            "Step [680/1372], Loss: 0.0010\n",
            "Step [700/1372], Loss: 0.0012\n",
            "Step [720/1372], Loss: 0.0022\n",
            "Step [740/1372], Loss: 0.0054\n",
            "Step [760/1372], Loss: 0.1539\n",
            "Step [780/1372], Loss: 0.0027\n",
            "Step [800/1372], Loss: 0.0022\n",
            "Step [820/1372], Loss: 0.0011\n",
            "Step [840/1372], Loss: 0.0007\n",
            "Step [860/1372], Loss: 0.0035\n",
            "Step [880/1372], Loss: 0.0019\n",
            "Step [900/1372], Loss: 0.0019\n",
            "Step [920/1372], Loss: 0.0005\n",
            "Step [940/1372], Loss: 0.0049\n",
            "Step [960/1372], Loss: 0.0102\n",
            "Step [980/1372], Loss: 0.0012\n",
            "Step [1000/1372], Loss: 0.0131\n",
            "Step [1020/1372], Loss: 0.0015\n",
            "Step [1040/1372], Loss: 0.0006\n",
            "Step [1060/1372], Loss: 0.0004\n",
            "Step [1080/1372], Loss: 0.0006\n",
            "Step [1100/1372], Loss: 0.0005\n",
            "Step [1120/1372], Loss: 0.0016\n",
            "Step [1140/1372], Loss: 0.0016\n",
            "Step [1160/1372], Loss: 0.0030\n",
            "Step [1180/1372], Loss: 0.0011\n",
            "Step [1200/1372], Loss: 0.0013\n",
            "Step [1220/1372], Loss: 0.0008\n",
            "Step [1240/1372], Loss: 0.0008\n",
            "Step [1260/1372], Loss: 0.0016\n",
            "Step [1280/1372], Loss: 0.0016\n",
            "Step [1300/1372], Loss: 0.0006\n",
            "Step [1320/1372], Loss: 0.0010\n",
            "Step [1340/1372], Loss: 0.0012\n",
            "Step [1360/1372], Loss: 0.0052\n",
            "Epoch 4\n",
            "Step [0/1372], Loss: 0.1779\n",
            "Step [20/1372], Loss: 0.0019\n",
            "Step [40/1372], Loss: 0.0023\n",
            "Step [60/1372], Loss: 0.0016\n",
            "Step [80/1372], Loss: 0.0009\n",
            "Step [100/1372], Loss: 0.0024\n",
            "Step [120/1372], Loss: 0.0022\n",
            "Step [140/1372], Loss: 0.0031\n",
            "Step [160/1372], Loss: 0.0020\n",
            "Step [180/1372], Loss: 0.0022\n",
            "Step [200/1372], Loss: 0.1991\n",
            "Step [220/1372], Loss: 0.0015\n",
            "Step [240/1372], Loss: 0.0022\n",
            "Step [260/1372], Loss: 0.0012\n",
            "Step [280/1372], Loss: 0.1501\n",
            "Step [300/1372], Loss: 0.0026\n",
            "Step [320/1372], Loss: 0.0012\n",
            "Step [340/1372], Loss: 0.1939\n",
            "Step [360/1372], Loss: 0.0018\n",
            "Step [380/1372], Loss: 0.0020\n",
            "Step [400/1372], Loss: 0.0013\n",
            "Step [420/1372], Loss: 0.0016\n",
            "Step [440/1372], Loss: 0.0011\n",
            "Step [460/1372], Loss: 0.0009\n",
            "Step [480/1372], Loss: 0.0008\n",
            "Step [500/1372], Loss: 0.1879\n",
            "Step [520/1372], Loss: 0.0010\n",
            "Step [540/1372], Loss: 0.0006\n",
            "Step [560/1372], Loss: 0.0010\n",
            "Step [580/1372], Loss: 0.0008\n",
            "Step [600/1372], Loss: 0.0041\n",
            "Step [620/1372], Loss: 0.0011\n",
            "Step [640/1372], Loss: 0.0187\n",
            "Step [660/1372], Loss: 0.1775\n",
            "Step [680/1372], Loss: 0.0015\n",
            "Step [700/1372], Loss: 0.0009\n",
            "Step [720/1372], Loss: 0.0027\n",
            "Step [740/1372], Loss: 0.0010\n",
            "Step [760/1372], Loss: 0.0007\n",
            "Step [780/1372], Loss: 0.0009\n",
            "Step [800/1372], Loss: 0.0009\n",
            "Step [820/1372], Loss: 0.0386\n",
            "Step [840/1372], Loss: 0.0033\n",
            "Step [860/1372], Loss: 0.0022\n",
            "Step [880/1372], Loss: 0.0015\n",
            "Step [900/1372], Loss: 0.0002\n",
            "Step [920/1372], Loss: 0.0006\n",
            "Step [940/1372], Loss: 0.0003\n",
            "Step [960/1372], Loss: 0.0022\n",
            "Step [980/1372], Loss: 0.0012\n",
            "Step [1000/1372], Loss: 0.0061\n",
            "Step [1020/1372], Loss: 0.0006\n",
            "Step [1040/1372], Loss: 0.0008\n",
            "Step [1060/1372], Loss: 0.0005\n",
            "Step [1080/1372], Loss: 0.0006\n",
            "Step [1100/1372], Loss: 0.0014\n",
            "Step [1120/1372], Loss: 0.0022\n",
            "Step [1140/1372], Loss: 0.0008\n",
            "Step [1160/1372], Loss: 0.0013\n",
            "Step [1180/1372], Loss: 0.0008\n",
            "Step [1200/1372], Loss: 0.0003\n",
            "Step [1220/1372], Loss: 0.0012\n",
            "Step [1240/1372], Loss: 0.0007\n",
            "Step [1260/1372], Loss: 0.0010\n",
            "Step [1280/1372], Loss: 0.0002\n",
            "Step [1300/1372], Loss: 0.0003\n",
            "Step [1320/1372], Loss: 0.0271\n",
            "Step [1340/1372], Loss: 0.0008\n",
            "Step [1360/1372], Loss: 0.0004\n",
            "Time taken to train: 65.52907347679138 seconds\n",
            "Accuracy: 99.69405594405595\n"
          ]
        }
      ]
    },
    {
      "cell_type": "code",
      "source": [
        "last_10_inputs = y_test_tensors[-10:]\n",
        "last_10_labels = test_labels[-10:]\n",
        "last_10_predicted = outputs[-10:]\n",
        "print(\"+------------+-------+----------+\")\n",
        "print(\"| Input      | Label | Predicted|\")\n",
        "print(\"+------------+-------+----------+\")\n",
        "for i in range(10):\n",
        "    input_str = str(last_10_inputs[i].tolist())\n",
        "    label_str = str(last_10_labels[i])\n",
        "    predicted_str = str(torch.round(last_10_predicted[i]).item())\n",
        "    print(f\"| {input_str:<10} | {label_str:<5} | {predicted_str:<8} |\")\n",
        "print(\"+------------+-------+----------+\")\n"
      ],
      "metadata": {
        "colab": {
          "base_uri": "https://localhost:8080/"
        },
        "id": "GVZwxLPWXEjs",
        "outputId": "8fc70266-a388-4cc7-89b9-7ebc1d9695c7"
      },
      "execution_count": null,
      "outputs": [
        {
          "output_type": "stream",
          "name": "stdout",
          "text": [
            "+------------+-------+----------+\n",
            "| Input      | Label | Predicted|\n",
            "+------------+-------+----------+\n",
            "| 0.0        | 0     | 0.0      |\n",
            "| 1.0        | 1     | 1.0      |\n",
            "| 0.0        | 0     | 0.0      |\n",
            "| 0.0        | 0     | 0.0      |\n",
            "| 1.0        | 1     | 1.0      |\n",
            "| 0.0        | 0     | 0.0      |\n",
            "| 0.0        | 0     | 0.0      |\n",
            "| 0.0        | 0     | 0.0      |\n",
            "| 0.0        | 0     | 0.0      |\n",
            "| 0.0        | 0     | 0.0      |\n",
            "+------------+-------+----------+\n"
          ]
        }
      ]
    },
    {
      "cell_type": "code",
      "source": [
        "#Random forest\n",
        "import sklearn\n",
        "import pickle\n",
        "from sklearn.metrics import confusion_matrix, f1_score, accuracy_score\n",
        "from sklearn.ensemble import RandomForestClassifier\n",
        "from joblib import dump,load\n",
        "\n",
        "random_forest = RandomForestClassifier(bootstrap = True, random_state = 18)\n",
        "start_time = time.time()\n",
        "random_forest.fit(train_sentences, train_labels)\n",
        "dump(random_forest, 'random_forest_model.joblib')\n",
        "end_time = time.time()\n",
        "elapsed_time_forest = end_time-start_time\n",
        "print(f'Time taken to train RandomForest: {elapsed_time_forest} seconds')\n",
        "predictions = random_forest.predict(test_sentences)\n",
        "accuracy_rf = random_forest.score(X_test_tensors_final.squeeze(1), predictions)\n",
        "print(\"Accuracy score\",accuracy_rf)\n",
        "\n"
      ],
      "metadata": {
        "colab": {
          "base_uri": "https://localhost:8080/"
        },
        "id": "DtvU_hwSruLr",
        "outputId": "d8d772b9-8a23-4e5c-88b1-75198935b370"
      },
      "execution_count": null,
      "outputs": [
        {
          "output_type": "stream",
          "name": "stdout",
          "text": [
            "Time taken to train RandomForest: 69.04466676712036 seconds\n",
            "Accuracy score 1.0\n"
          ]
        }
      ]
    },
    {
      "cell_type": "code",
      "source": [
        "from sklearn import svm\n",
        "from sklearn.model_selection import GridSearchCV\n",
        "from sklearn.metrics import accuracy_score\n",
        "\n",
        "svm_classifier = svm.SVC(kernel='linear')\n",
        "print(svm_classifier)\n",
        "start_time = time.time()\n",
        "svm_classifier.fit(train_sentences, train_labels)\n",
        "end_time = time.time()\n",
        "elapsed_time_svm = end_time-start_time\n",
        "print(f'Time taken to train SVM: {elapsed_time_svm} seconds')\n",
        "y_pred = svm_classifier.predict(test_sentences)\n",
        "accuracy_svm= svm_classifier.score(test_sentences, test_labels)\n",
        "print(\"Accuracy:\", accuracy_svm)\n",
        "\n"
      ],
      "metadata": {
        "colab": {
          "base_uri": "https://localhost:8080/"
        },
        "id": "KqtOyZ1O-F0F",
        "outputId": "ac4ca4e7-b064-46b8-d03a-5e7ca7e49004"
      },
      "execution_count": null,
      "outputs": [
        {
          "output_type": "stream",
          "name": "stdout",
          "text": [
            "SVC(kernel='linear')\n",
            "Time taken to train SVM: 19.330122470855713 seconds\n",
            "Accuracy: 0.9939446997884293\n"
          ]
        }
      ]
    },
    {
      "cell_type": "code",
      "source": [
        "import matplotlib.pyplot as plt\n",
        "score1 = svm_classifier.score(test_sentences, test_labels)\n",
        "score2 = random_forest.score(X_test_tensors_final.squeeze(1), predictions)\n",
        "score3 = accuracy\n",
        "plt.figure()\n",
        "colors = ['red','green','blue']\n",
        "# Plot the points using the scatter function\n",
        "plt.scatter(['SVM','Random_forest','LSTM'],[score1*100,score2*100,score3],c=colors)\n",
        "plt.plot(['SVM','LSTM','Random_forest'],[score1*100,score2*100,score3])\n",
        "# Show the plot\n",
        "plt.show()"
      ],
      "metadata": {
        "colab": {
          "base_uri": "https://localhost:8080/",
          "height": 430
        },
        "id": "OwGVbux7h0XS",
        "outputId": "053b39e0-fdaa-4f3a-d985-96fec182b4e4"
      },
      "execution_count": null,
      "outputs": [
        {
          "output_type": "display_data",
          "data": {
            "text/plain": [
              "<Figure size 640x480 with 1 Axes>"
            ],
            "image/png": "[encoded data removed]"
          },
          "metadata": {}
        }
      ]
    }
  ]
}